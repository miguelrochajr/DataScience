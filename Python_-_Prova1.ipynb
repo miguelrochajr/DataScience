{
 "cells": [
  {
   "cell_type": "markdown",
   "metadata": {},
   "source": [
    "# Tópicos Especiais em Processamento da Informação: Ciência de Dados\n",
    "\n",
    "\n",
    "## Primeira Avaliação:\n",
    "\n",
    "Prof. Luiz Affonso Guedes Engenharia de Computação - UFRN 2017-2\n",
    "\n",
    "Alunos:\n"
   ]
  },
  {
   "cell_type": "markdown",
   "metadata": {},
   "source": [
    "Objetivo:\n",
    "\n",
    "    Análise da base de dados sobre aspectos socio-cuturais de brasileiros adultos (acima de 18 anos). Base de dados da Pesquisa Nacional de Saúde 2013 - IBGE\n"
   ]
  },
  {
   "cell_type": "markdown",
   "metadata": {},
   "source": [
    "# Instruções\n",
    "- Carregue a base de dados: base_pesquisa_nacional_de_saude_2013_IBGE.csv\n",
    "- Campos (colunas da base de dados)\n",
    "    - saude_autorreferida (muito_ruim=1, ruim=2, boa=3, muito_boa=4, excelente=5)\n",
    "    - sexo (masculino=1, feminino=2)\n",
    "    - idade (idade em anos)\n",
    "    - cor_raca (branca=1, preta=2, amarela=3, parda=4, indígena=5)\n",
    "    - e_civil (casado=1, separado_ou_desquitado_judicialmente=2, divorciado=3, viúvo=4, solteiro=5) \n",
    "    - nivel_instrucao (pré_escola=1, alfabetização=2, ensino_fundamental=3 e 4, ensino_médio = 5 e 6, graduação=7)\n",
    "    - sabe_ler_escrever (sim=1, não=2)\n",
    "    - dirige_carro (sim=1, não=2)\n",
    "    - dirige_motocicleta (sim=1, não=2)\n",
    "    - freq_anda_motocicleta (sempre=1, quase_sempre=2, às_vezes=3, raramente=4, nunca=5)\n",
    "    - aciden_lesao_12meses (sim=1, não=2) - Acidente de trânsito nos últimos 12 meses com lesão.\n",
    "    - idade_inicio_alcool - idade que começou inferir bebida alcólica. A pergunta não foi feita para todos os participantes da pesquisa. Ainda há o caso de alguns entrevistados que não emgerem bebidas alcólicas, ou não sabiam ou não responderam. Nesses casos, não há valor no campo correspondente."
   ]
  },
  {
   "cell_type": "code",
   "execution_count": 4,
   "metadata": {
    "collapsed": false
   },
   "outputs": [
    {
     "name": "stdout",
     "output_type": "stream",
     "text": [
      "carregar a base de dados - base_pesquisa_nacional_de_saude_2013_IBGE.csv\n"
     ]
    }
   ],
   "source": [
    "# importar pandas\n",
    "import pandas as pd\n",
    "\n",
    "print(\"carregar a base de dados - base_pesquisa_nacional_de_saude_2013_IBGE.csv\")\n"
   ]
  },
  {
   "cell_type": "markdown",
   "metadata": {},
   "source": [
    "Questão 1 - Análise sobre idade e estado civil\n",
    "- Determinar o percentual dos entrevistados por sexo.\n",
    "- Calcular a idade média dos homens\n",
    "- Calcular a idade média das mulheres\n",
    "- Calcular a idade média dos homens casados\n",
    "- Calcular a idade média das mulheres casadas\n",
    "- Plotar o histograma das idades das pessoas do sexo masculino\n",
    "- plotar o histograma das pessoas do sexo feminino\n"
   ]
  },
  {
   "cell_type": "code",
   "execution_count": null,
   "metadata": {
    "collapsed": true
   },
   "outputs": [],
   "source": [
    "# Questão 01\n",
    "print(\"Respostas da Questão 01\")"
   ]
  },
  {
   "cell_type": "markdown",
   "metadata": {},
   "source": [
    "Questão 2 - Relação da Saúde Autorreferido em função da idade\n",
    "- calcular a saude_autorreferida média dos homens com idade até 40 anos.\n",
    "- calcular a saude_autorreferida média das mulheres com idade até 40 anos.\n",
    "- calcular a saude_autorreferida média dos homens com idade maior ou igual a 41 anos.\n",
    "- calcular a saude_autorreferida média das mulheres com idade maior ou igual a 41 anos.\n",
    "- plote os gráficos de caixa (boxplot) para essas 04 análises."
   ]
  },
  {
   "cell_type": "code",
   "execution_count": null,
   "metadata": {
    "collapsed": true
   },
   "outputs": [],
   "source": [
    "# Questão 02\n",
    "print(\"Respostas da Questão 02\")"
   ]
  },
  {
   "cell_type": "markdown",
   "metadata": {},
   "source": [
    "Questão 3 - Nível de Instrução em função de idade e sexo\n",
    "- calcular o nível de instrução (nivel_instrucao) médio dos homens com idade até 40 anos.\n",
    "- calcular o nível de instrução (nivel_instrucao) médio das mulheres com idade até 40 anos.\n",
    "- calcular o nível de instrução (nivel_instrucao) médio dos homens com idade maior ou igual a 41 anos.\n",
    "- calcular o nível de instrução (nivel_instrucao) médio das mulheres com idade maior ou igual a 41 anos.\n",
    "- plotar os gráficos de caixa (boxplot) para essas 04 análises."
   ]
  },
  {
   "cell_type": "code",
   "execution_count": null,
   "metadata": {
    "collapsed": true
   },
   "outputs": [],
   "source": [
    "# Questão 03\n",
    "print(\"Respostas da Questão 03\")"
   ]
  },
  {
   "cell_type": "markdown",
   "metadata": {},
   "source": [
    "Questão 4 - Nível de Instrução em função de idade e sexo\n",
    "- Determine se há correlação entre sexo e nível de instrução (nivel_instrucao).\n",
    "- Determine se há correlação entre raça (cor_raca) e nível de instrução (nivel_instrucao).\n",
    "- Determine se há correlação entre sexo e dirige_motocicleta.\n",
    "- Apresente os resultados de forma gráfica."
   ]
  },
  {
   "cell_type": "code",
   "execution_count": null,
   "metadata": {
    "collapsed": true
   },
   "outputs": [],
   "source": [
    "# Questão 04\n",
    "print(\"Respostas da Questão 04\")"
   ]
  },
  {
   "cell_type": "markdown",
   "metadata": {},
   "source": [
    "Questão 5 - Perfil dos motoristas de motocicletas\n",
    "- Considere \"Jovem\" pessoas com idade até 35 anos e \"Adulto\" pessoas com idade igual ou maior que 36 anos.\n",
    "- Determine o percentual de homens Jovens que dirigem motocicleta\n",
    "- Determine o percentual de homens Adultos que dirigem motocicleta\n",
    "- Determine o percentual de mulheres Jovens que dirigem motocicleta\n",
    "- Determine o percentual de mulheres Adultas que dirigem motocicleta\n",
    "- Plote esses 04 resultados num gráfico de barras"
   ]
  },
  {
   "cell_type": "code",
   "execution_count": null,
   "metadata": {
    "collapsed": true
   },
   "outputs": [],
   "source": [
    "# Questão 05\n",
    "print(\"Respostas da Questão 05\")"
   ]
  },
  {
   "cell_type": "markdown",
   "metadata": {},
   "source": [
    "Questão 6 - Perfil dos motoristas de motocicletas\n",
    "- Determine o percentual de pessoas que utilizam motocilceta sempre ou quase sempre (freq_anda_motocicleta <= 2) e que sofreram acidente nos últimos 12 meses (aciden_lesao_12meses ==1).\n",
    "- Determine o percentual de pessoas que não utilizam frequentemente motocilceta (freq_anda_motocicleta >= 3) e que sofreram acidente nos últimos 12 meses (aciden_lesao_12meses ==1).\n",
    "- Apresente os resultados em gráfico de barras."
   ]
  },
  {
   "cell_type": "code",
   "execution_count": 2,
   "metadata": {
    "collapsed": false
   },
   "outputs": [
    {
     "name": "stdout",
     "output_type": "stream",
     "text": [
      "Respostas da Questão 06\n"
     ]
    }
   ],
   "source": [
    "# Questão 06\n",
    "print(\"Respostas da Questão 06\")"
   ]
  },
  {
   "cell_type": "markdown",
   "metadata": {},
   "source": [
    "Questão 7 - Perfil sobre consumo de alcool\n",
    "\n",
    "- Calcule a idade média que os homens começam a consumir alcool (idade_inicio_alcool)\n",
    "- Calcule a idade média que as mulheres começam a consumir alcool (idade_inicio_alcool)\n",
    "- Calcule a idade média que os homens começam a consumir alcool (idade_inicio_alcool) em função do nível de instrução (nivel_instrucao)\n",
    "   - Considerar:\n",
    "       - nivel_superior SE nivel_instrucao == 7\n",
    "       - nivel_medio SE nivel_instrucao == 5 OU 6\n",
    "       - nivel_basico SE nivel_intrucao < 5\n",
    "- Apresente o resultado de em forma gráfica\n",
    " \n",
    "OBS. Atenção. Nem todos os entrevistados foram questionados sobre o item \"idade_inicio_alcool\"."
   ]
  },
  {
   "cell_type": "code",
   "execution_count": null,
   "metadata": {
    "collapsed": true
   },
   "outputs": [],
   "source": [
    "# Questão 07\n",
    "print(\"Respostas da Questão 07\")"
   ]
  },
  {
   "cell_type": "markdown",
   "metadata": {},
   "source": [
    "Questão 8 - Proponha e resolva uma questão que use os dados dessa base de dados. Serão considerados os seguintes aspectos:\n",
    "- pertinência e relevância da questão.\n",
    "- corretude da resposta."
   ]
  },
  {
   "cell_type": "code",
   "execution_count": null,
   "metadata": {
    "collapsed": true
   },
   "outputs": [],
   "source": [
    "# Questão 08\n",
    "print(\"Respostas da Questão 08\")"
   ]
  }
 ],
 "metadata": {
  "kernelspec": {
   "display_name": "Python 3",
   "language": "python",
   "name": "python3"
  },
  "language_info": {
   "codemirror_mode": {
    "name": "ipython",
    "version": 3
   },
   "file_extension": ".py",
   "mimetype": "text/x-python",
   "name": "python",
   "nbconvert_exporter": "python",
   "pygments_lexer": "ipython3",
   "version": "3.6.0"
  }
 },
 "nbformat": 4,
 "nbformat_minor": 2
}
